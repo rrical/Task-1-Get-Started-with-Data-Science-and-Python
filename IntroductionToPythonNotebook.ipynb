{
  "nbformat": 4,
  "nbformat_minor": 0,
  "metadata": {
    "colab": {
      "name": "IntroductionToPythonNotebook.ipynb",
      "provenance": [],
      "collapsed_sections": [],
      "toc_visible": true,
      "authorship_tag": "ABX9TyOf2U7Po1XIM9EjQGc7ZIsG",
      "include_colab_link": true
    },
    "kernelspec": {
      "name": "python3",
      "display_name": "Python 3"
    }
  },
  "cells": [
    {
      "cell_type": "markdown",
      "metadata": {
        "id": "view-in-github",
        "colab_type": "text"
      },
      "source": [
        "<a href=\"https://colab.research.google.com/github/rrical/Task-1-Get-Started-with-Data-Science-and-Python/blob/master/IntroductionToPythonNotebook.ipynb\" target=\"_parent\"><img src=\"https://colab.research.google.com/assets/colab-badge.svg\" alt=\"Open In Colab\"/></a>"
      ]
    },
    {
      "cell_type": "code",
      "metadata": {
        "id": "L23kQogq_GKa",
        "colab_type": "code",
        "outputId": "7e20efca-2348-48db-dce5-6e31b18cc730",
        "colab": {
          "base_uri": "https://localhost:8080/",
          "height": 34
        }
      },
      "source": [
        "the_world_is_flat = True\n",
        "if the_world_is_flat:\n",
        "  print(\"Be careful not to fall off!\")\n",
        "\n",
        "# -*- coding: encoding -*-\n",
        "\n",
        "# -*- coding: cp1252 -*-\n",
        "\n",
        "#!/usr/bin/env python3\n",
        "# -*- coding: cp1252 -*-\n"
      ],
      "execution_count": 0,
      "outputs": [
        {
          "output_type": "stream",
          "text": [
            "Be careful not to fall off!\n"
          ],
          "name": "stdout"
        }
      ]
    },
    {
      "cell_type": "code",
      "metadata": {
        "id": "O0fu04dEAAu5",
        "colab_type": "code",
        "outputId": "cb2fa687-0cf5-4197-8c58-fd2e48f9cf15",
        "colab": {
          "base_uri": "https://localhost:8080/",
          "height": 51
        }
      },
      "source": [
        "# this is the first comment\n",
        "spam = 1  # and this is the second comment\n",
        "          # ... and now a third!\n",
        "text = \"# This is not a comment because it's inside quotes.\"\n",
        "print(spam)\n",
        "print(text)"
      ],
      "execution_count": 0,
      "outputs": [
        {
          "output_type": "stream",
          "text": [
            "1\n",
            "# This is not a comment because it's inside quotes.\n"
          ],
          "name": "stdout"
        }
      ]
    },
    {
      "cell_type": "code",
      "metadata": {
        "id": "VoxSXjTWASYR",
        "colab_type": "code",
        "outputId": "4b620729-7040-4c40-a3ee-d7bfb942a88b",
        "colab": {
          "base_uri": "https://localhost:8080/",
          "height": 85
        }
      },
      "source": [
        "s=2+2\n",
        "mr=50-5*6\n",
        "mrd=(50-5*6)/4\n",
        "d=8 / 5  # division always returns a floating point number\n",
        "print(s)\n",
        "print(mr)\n",
        "print(mrd)\n",
        "print(d)"
      ],
      "execution_count": 0,
      "outputs": [
        {
          "output_type": "stream",
          "text": [
            "4\n",
            "20\n",
            "5.0\n",
            "1.6\n"
          ],
          "name": "stdout"
        }
      ]
    },
    {
      "cell_type": "code",
      "metadata": {
        "id": "_O_Z2fGhA-7l",
        "colab_type": "code",
        "outputId": "def8c0fd-5014-411a-d8d0-7eaf720e01b1",
        "colab": {
          "base_uri": "https://localhost:8080/",
          "height": 85
        }
      },
      "source": [
        "a=17 / 3  # classic division returns a float\n",
        "b=17 // 3  # floor division discards the fractional part\n",
        "c=17 % 3  # the % operator returns the remainder of the division\n",
        "d= 5 * 3 + 2  # result * divisor + remainder\n",
        "print(a)\n",
        "print(b)\n",
        "print(c)\n",
        "print(d)"
      ],
      "execution_count": 0,
      "outputs": [
        {
          "output_type": "stream",
          "text": [
            "5.666666666666667\n",
            "5\n",
            "2\n",
            "17\n"
          ],
          "name": "stdout"
        }
      ]
    },
    {
      "cell_type": "code",
      "metadata": {
        "id": "BVYYitnmCVmU",
        "colab_type": "code",
        "outputId": "f491af14-61cd-414f-f7df-a2fc29cf4719",
        "colab": {
          "base_uri": "https://localhost:8080/",
          "height": 51
        }
      },
      "source": [
        "a=5 ** 2  # 5 squared\n",
        "b=2 ** 7  # 2 to the power of 7\n",
        "print(a)\n",
        "print(b)"
      ],
      "execution_count": 0,
      "outputs": [
        {
          "output_type": "stream",
          "text": [
            "25\n",
            "128\n"
          ],
          "name": "stdout"
        }
      ]
    },
    {
      "cell_type": "code",
      "metadata": {
        "id": "Dnf1-qGLCkKt",
        "colab_type": "code",
        "outputId": "c015a0ed-afa7-4a86-8aad-776c073cbbd9",
        "colab": {
          "base_uri": "https://localhost:8080/",
          "height": 34
        }
      },
      "source": [
        "width = 20\n",
        "height = 5 * 9\n",
        "width * height"
      ],
      "execution_count": 0,
      "outputs": [
        {
          "output_type": "execute_result",
          "data": {
            "text/plain": [
              "900"
            ]
          },
          "metadata": {
            "tags": []
          },
          "execution_count": 11
        }
      ]
    },
    {
      "cell_type": "code",
      "metadata": {
        "id": "ROiq3x8GC7Fj",
        "colab_type": "code",
        "colab": {}
      },
      "source": [
        "n=\"\"  # try to access an undefined variable"
      ],
      "execution_count": 0,
      "outputs": []
    },
    {
      "cell_type": "code",
      "metadata": {
        "id": "ILAYNn7HEqD-",
        "colab_type": "code",
        "outputId": "fdb2bf55-b6ff-488a-91fb-245498b6c2a7",
        "colab": {
          "base_uri": "https://localhost:8080/",
          "height": 34
        }
      },
      "source": [
        "4 * 3.75 - 1"
      ],
      "execution_count": 0,
      "outputs": [
        {
          "output_type": "execute_result",
          "data": {
            "text/plain": [
              "14.0"
            ]
          },
          "metadata": {
            "tags": []
          },
          "execution_count": 21
        }
      ]
    },
    {
      "cell_type": "code",
      "metadata": {
        "id": "nr0jaHz5E6tU",
        "colab_type": "code",
        "outputId": "5401b7f5-4e52-4c52-f30e-fd577eb2cbcb",
        "colab": {
          "base_uri": "https://localhost:8080/",
          "height": 34
        }
      },
      "source": [
        "tax = 12.5 / 100\n",
        "price = 100.50\n",
        "price * tax\n",
        "price + _\n",
        "round(_, 2)"
      ],
      "execution_count": 0,
      "outputs": [
        {
          "output_type": "execute_result",
          "data": {
            "text/plain": [
              "113.06"
            ]
          },
          "metadata": {
            "tags": []
          },
          "execution_count": 31
        }
      ]
    },
    {
      "cell_type": "code",
      "metadata": {
        "id": "lxZ8Joj0HPHN",
        "colab_type": "code",
        "outputId": "4bbcfa6a-dbd6-45bf-a3c7-a529356e8917",
        "colab": {
          "base_uri": "https://localhost:8080/",
          "height": 119
        }
      },
      "source": [
        "print('spam eggs')  # single quotes\n",
        "print('doesn\\'t')  # use \\' to escape the single quote...\n",
        "print(\"doesn't\")  # ...or use double quotes instead\n",
        "print('\"Yes,\" they said.')\n",
        "print(\"\\\"Yes,\\\" they said.\")\n",
        "print('\"Isn\\'t,\" they said.')"
      ],
      "execution_count": 0,
      "outputs": [
        {
          "output_type": "stream",
          "text": [
            "spam eggs\n",
            "doesn't\n",
            "doesn't\n",
            "\"Yes,\" they said.\n",
            "\"Yes,\" they said.\n",
            "\"Isn't,\" they said.\n"
          ],
          "name": "stdout"
        }
      ]
    },
    {
      "cell_type": "code",
      "metadata": {
        "id": "5lVlEp_xI1px",
        "colab_type": "code",
        "outputId": "8c0b63cc-b494-4ee8-ff39-bdd81e7f0964",
        "colab": {
          "base_uri": "https://localhost:8080/",
          "height": 68
        }
      },
      "source": [
        "print('C:\\some\\name')  # here \\n means newline!\n",
        "print(r'C:\\some\\name')  # note the r before the quote"
      ],
      "execution_count": 0,
      "outputs": [
        {
          "output_type": "stream",
          "text": [
            "C:\\some\n",
            "ame\n",
            "C:\\some\\name\n"
          ],
          "name": "stdout"
        }
      ]
    },
    {
      "cell_type": "code",
      "metadata": {
        "id": "Kay_eIamJQuP",
        "colab_type": "code",
        "outputId": "10e652bf-6801-49b2-b3fc-a95a6b7d4d13",
        "colab": {
          "base_uri": "https://localhost:8080/",
          "height": 85
        }
      },
      "source": [
        "print(\"\"\"\\\n",
        "Usage: thingy [OPTIONS]\n",
        "     -h                        Display this usage message\n",
        "     -H hostname               Hostname to connect to\n",
        "\"\"\")"
      ],
      "execution_count": 0,
      "outputs": [
        {
          "output_type": "stream",
          "text": [
            "Usage: thingy [OPTIONS]\n",
            "     -h                        Display this usage message\n",
            "     -H hostname               Hostname to connect to\n",
            "\n"
          ],
          "name": "stdout"
        }
      ]
    },
    {
      "cell_type": "code",
      "metadata": {
        "id": "NfKCITluKbgL",
        "colab_type": "code",
        "outputId": "d4205350-04af-4c38-de49-e4d1886d3956",
        "colab": {
          "base_uri": "https://localhost:8080/",
          "height": 34
        }
      },
      "source": [
        "# 3 times 'un', followed by 'ium'\n",
        "3 * 'un' + 'ium'"
      ],
      "execution_count": 0,
      "outputs": [
        {
          "output_type": "execute_result",
          "data": {
            "text/plain": [
              "'unununium'"
            ]
          },
          "metadata": {
            "tags": []
          },
          "execution_count": 36
        }
      ]
    },
    {
      "cell_type": "code",
      "metadata": {
        "id": "oIRXpAjvKgm0",
        "colab_type": "code",
        "outputId": "9e3046a7-0809-4e7e-bb98-38b24c50447d",
        "colab": {
          "base_uri": "https://localhost:8080/",
          "height": 34
        }
      },
      "source": [
        "'Py' 'thon'"
      ],
      "execution_count": 0,
      "outputs": [
        {
          "output_type": "execute_result",
          "data": {
            "text/plain": [
              "'Python'"
            ]
          },
          "metadata": {
            "tags": []
          },
          "execution_count": 37
        }
      ]
    },
    {
      "cell_type": "code",
      "metadata": {
        "id": "6KZmCLiHKyp_",
        "colab_type": "code",
        "outputId": "0369d99a-be71-49b2-c033-81b6892cb3f2",
        "colab": {
          "base_uri": "https://localhost:8080/",
          "height": 34
        }
      },
      "source": [
        "text = ('Put several strings within parentheses '\n",
        "         'to have them joined together.')\n",
        "text"
      ],
      "execution_count": 0,
      "outputs": [
        {
          "output_type": "execute_result",
          "data": {
            "text/plain": [
              "'Put several strings within parentheses to have them joined together.'"
            ]
          },
          "metadata": {
            "tags": []
          },
          "execution_count": 40
        }
      ]
    },
    {
      "cell_type": "code",
      "metadata": {
        "id": "_BpYR5heK8cm",
        "colab_type": "code",
        "outputId": "28850a68-c631-486d-d7a3-f52603f7426a",
        "colab": {
          "base_uri": "https://localhost:8080/",
          "height": 34
        }
      },
      "source": [
        "prefix = 'Py'\n",
        "#prefix 'thon'  # can't concatenate a variable and a string literal\n",
        "prefix + 'thon'\n",
        "#('un' * 3) 'ium'\n",
        "('un' * 3) + 'ium'"
      ],
      "execution_count": 0,
      "outputs": [
        {
          "output_type": "execute_result",
          "data": {
            "text/plain": [
              "'unununium'"
            ]
          },
          "metadata": {
            "tags": []
          },
          "execution_count": 43
        }
      ]
    },
    {
      "cell_type": "code",
      "metadata": {
        "id": "lmint1DMLpOk",
        "colab_type": "code",
        "outputId": "ec5bd280-2516-4e12-e400-402251343d7f",
        "colab": {
          "base_uri": "https://localhost:8080/",
          "height": 34
        }
      },
      "source": [
        "word = 'Python'\n",
        "word[0]  # character in position 0\n",
        "word[5]  # character in position 5\n",
        "\n",
        "word[-1]  # last character\n",
        "word[-2]  # second-last character\n",
        "word[-6]\n",
        "\n",
        "word[0:2]  # characters from position 0 (included) to 2 (excluded)\n",
        "word[2:5]  # characters from position 2 (included) to 5 (excluded)\n",
        "\n",
        "word[:2]   # character from the beginning to position 2 (excluded)\n",
        "word[4:]   # characters from position 4 (included) to the end\n",
        "word[-2:]  # characters from the second-last (included) to the end\n",
        "\n",
        "#word[42]  # the word only has 6 characters\n",
        "\n",
        "word[4:42]\n",
        "word[42:]\n",
        "\n",
        "#word[0] = 'J'\n",
        "#word[2:] = 'py'\n",
        "'J' + word[1:]\n",
        "word[:2] + 'py'"
      ],
      "execution_count": 0,
      "outputs": [
        {
          "output_type": "execute_result",
          "data": {
            "text/plain": [
              "'Pypy'"
            ]
          },
          "metadata": {
            "tags": []
          },
          "execution_count": 69
        }
      ]
    },
    {
      "cell_type": "code",
      "metadata": {
        "id": "Z_WJrooQPcWY",
        "colab_type": "code",
        "outputId": "cd945b4a-473b-4c31-9f06-b38bb44b3f11",
        "colab": {
          "base_uri": "https://localhost:8080/",
          "height": 34
        }
      },
      "source": [
        "s = 'supercalifragilisticexpialidocious'\n",
        "len(s)"
      ],
      "execution_count": 0,
      "outputs": [
        {
          "output_type": "execute_result",
          "data": {
            "text/plain": [
              "34"
            ]
          },
          "metadata": {
            "tags": []
          },
          "execution_count": 70
        }
      ]
    },
    {
      "cell_type": "code",
      "metadata": {
        "id": "Q0bDZ8CaPxqg",
        "colab_type": "code",
        "outputId": "7ba18a7a-6ae1-4165-f97c-58f63cf338e0",
        "colab": {
          "base_uri": "https://localhost:8080/",
          "height": 34
        }
      },
      "source": [
        "squares = [1, 4, 9, 16, 25]\n",
        "squares\n",
        "\n",
        "squares[0]  # indexing returns the item\n",
        "squares[-1]\n",
        "squares[-3:]  # slicing returns a new list\n",
        "\n",
        "squares[:]\n",
        "\n",
        "squares + [36, 49, 64, 81, 100]"
      ],
      "execution_count": 0,
      "outputs": [
        {
          "output_type": "execute_result",
          "data": {
            "text/plain": [
              "[1, 4, 9, 16, 25, 36, 49, 64, 81, 100]"
            ]
          },
          "metadata": {
            "tags": []
          },
          "execution_count": 76
        }
      ]
    },
    {
      "cell_type": "code",
      "metadata": {
        "id": "zB_C-kkZQQg6",
        "colab_type": "code",
        "outputId": "cff75f4e-0514-491b-8542-f2c2b144afef",
        "colab": {
          "base_uri": "https://localhost:8080/",
          "height": 34
        }
      },
      "source": [
        "cubes = [1, 8, 27, 65, 125]  # something's wrong here\n",
        "4 ** 3  # the cube of 4 is 64, not 65!\n",
        "cubes[3] = 64  # replace the wrong value\n",
        "cubes\n",
        "\n",
        "cubes.append(216)  # add the cube of 6\n",
        "cubes.append(7 ** 3)  # and the cube of 7\n",
        "cubes"
      ],
      "execution_count": 0,
      "outputs": [
        {
          "output_type": "execute_result",
          "data": {
            "text/plain": [
              "[1, 8, 27, 64, 125, 216, 343]"
            ]
          },
          "metadata": {
            "tags": []
          },
          "execution_count": 81
        }
      ]
    },
    {
      "cell_type": "code",
      "metadata": {
        "id": "WmUl6lFbQxIZ",
        "colab_type": "code",
        "outputId": "eab57588-905b-4f4a-aabd-df1f6eb0ebb5",
        "colab": {
          "base_uri": "https://localhost:8080/",
          "height": 34
        }
      },
      "source": [
        "letters = ['a', 'b', 'c', 'd', 'e', 'f', 'g']\n",
        "letters\n",
        "# replace some values\n",
        "letters[2:5] = ['C', 'D', 'E']\n",
        "letters\n",
        "# now remove them\n",
        "letters[2:5] = []\n",
        "letters\n",
        "# clear the list by replacing all the elements with an empty list\n",
        "letters[:] = []\n",
        "letters\n",
        "\n",
        "letters = ['a', 'b', 'c', 'd']\n",
        "len(letters)\n",
        "\n",
        "a = ['a', 'b', 'c']\n",
        "n = [1, 2, 3]\n",
        "x = [a, n]\n",
        "x\n",
        "x[0]\n",
        "x[0][1]\n"
      ],
      "execution_count": 0,
      "outputs": [
        {
          "output_type": "execute_result",
          "data": {
            "text/plain": [
              "'b'"
            ]
          },
          "metadata": {
            "tags": []
          },
          "execution_count": 89
        }
      ]
    },
    {
      "cell_type": "code",
      "metadata": {
        "id": "_FBsujZhRicj",
        "colab_type": "code",
        "outputId": "15637860-8b36-4289-9e39-3c1c25437e07",
        "colab": {
          "base_uri": "https://localhost:8080/",
          "height": 136
        }
      },
      "source": [
        "# Fibonacci series:\n",
        "# the sum of two elements defines the next\n",
        "a, b = 0, 1\n",
        "while a < 10:\n",
        "  print(a)\n",
        "  a, b = b, a+b"
      ],
      "execution_count": 0,
      "outputs": [
        {
          "output_type": "stream",
          "text": [
            "0\n",
            "1\n",
            "1\n",
            "2\n",
            "3\n",
            "5\n",
            "8\n"
          ],
          "name": "stdout"
        }
      ]
    },
    {
      "cell_type": "code",
      "metadata": {
        "id": "rMiNtth7SOFi",
        "colab_type": "code",
        "outputId": "31b08827-982b-404f-d546-b1c987e1f2fc",
        "colab": {
          "base_uri": "https://localhost:8080/",
          "height": 34
        }
      },
      "source": [
        "i = 256*256\n",
        "print('The value of i is', i)"
      ],
      "execution_count": 7,
      "outputs": [
        {
          "output_type": "stream",
          "text": [
            "The value of i is 65536\n"
          ],
          "name": "stdout"
        }
      ]
    },
    {
      "cell_type": "code",
      "metadata": {
        "id": "vLsDDR9O097t",
        "colab_type": "code",
        "colab": {
          "base_uri": "https://localhost:8080/",
          "height": 34
        },
        "outputId": "8c60f266-42b0-4323-d1e8-0c5e4dc0bd89"
      },
      "source": [
        "a, b = 0, 1\n",
        "while a < 1000:\n",
        "  print(a, end=',')\n",
        "  a, b = b, a+b"
      ],
      "execution_count": 9,
      "outputs": [
        {
          "output_type": "stream",
          "text": [
            "0,1,1,2,3,5,8,13,21,34,55,89,144,233,377,610,987,"
          ],
          "name": "stdout"
        }
      ]
    },
    {
      "cell_type": "code",
      "metadata": {
        "id": "6Ia9yGnA1vQn",
        "colab_type": "code",
        "colab": {
          "base_uri": "https://localhost:8080/",
          "height": 51
        },
        "outputId": "c3d5df26-e66d-41a6-ae8a-7dc5964235e5"
      },
      "source": [
        "x = int(input(\"Please enter an integer: \"))\n",
        "if x < 0:\n",
        "  x = 0\n",
        "  print('Negative changed to zero')\n",
        "elif x == 0:\n",
        "  print('Zero')\n",
        "elif x == 1:\n",
        "  print('Single')\n",
        "else:\n",
        "  print('More')"
      ],
      "execution_count": 15,
      "outputs": [
        {
          "output_type": "stream",
          "text": [
            "Please enter an integer: 42\n",
            "More\n"
          ],
          "name": "stdout"
        }
      ]
    },
    {
      "cell_type": "code",
      "metadata": {
        "id": "hOqPlejs3rJw",
        "colab_type": "code",
        "colab": {
          "base_uri": "https://localhost:8080/",
          "height": 68
        },
        "outputId": "a7d5f99e-d6fa-4a9c-b349-bd2573f39dad"
      },
      "source": [
        "# Measure some strings:\n",
        "words = ['cat','window','defenestrate']\n",
        "for w in words:\n",
        "  print(w, len(w))"
      ],
      "execution_count": 17,
      "outputs": [
        {
          "output_type": "stream",
          "text": [
            "cat 3\n",
            "window 6\n",
            "defenestrate 12\n"
          ],
          "name": "stdout"
        }
      ]
    },
    {
      "cell_type": "code",
      "metadata": {
        "id": "qGQMM3Ko4Mfe",
        "colab_type": "code",
        "colab": {}
      },
      "source": [
        "# Strategy: Iterate over a copy\n",
        "for user, status in users.copy().items():\n",
        "  if status == 'inactive':\n",
        "    del users[user]    \n",
        "\n",
        "# Strategy:  Create a new collection\n",
        "active_users = {}\n",
        "for user, status in users.items():\n",
        "    if status == 'active':\n",
        "        active_users[user] = status"
      ],
      "execution_count": 0,
      "outputs": []
    },
    {
      "cell_type": "code",
      "metadata": {
        "id": "cO5OheXI9q9d",
        "colab_type": "code",
        "colab": {
          "base_uri": "https://localhost:8080/",
          "height": 306
        },
        "outputId": "5a401374-5cb1-4cda-ebf5-f7241c310758"
      },
      "source": [
        "for i in range(5):\n",
        "  print(i)\n",
        "\n",
        "for i in range(5, 10):\n",
        "  print(i)\n",
        "\n",
        "for i in range(0, 10, 3):\n",
        "  print(i)\n",
        "\n",
        "for i in range(-10, -100, -30):\n",
        "  print(i)"
      ],
      "execution_count": 51,
      "outputs": [
        {
          "output_type": "stream",
          "text": [
            "0\n",
            "1\n",
            "2\n",
            "3\n",
            "4\n",
            "5\n",
            "6\n",
            "7\n",
            "8\n",
            "9\n",
            "0\n",
            "3\n",
            "6\n",
            "9\n",
            "-10\n",
            "-40\n",
            "-70\n"
          ],
          "name": "stdout"
        }
      ]
    },
    {
      "cell_type": "code",
      "metadata": {
        "id": "UnO8i2Bu-b14",
        "colab_type": "code",
        "colab": {
          "base_uri": "https://localhost:8080/",
          "height": 102
        },
        "outputId": "11ff17a5-cca4-4312-faa0-e1498a9a6ea9"
      },
      "source": [
        "a = ['Mary', 'had', 'a', 'little', 'lamb']\n",
        "for i in range(len(a)):\n",
        "  print(i, a[i])"
      ],
      "execution_count": 52,
      "outputs": [
        {
          "output_type": "stream",
          "text": [
            "0 Mary\n",
            "1 had\n",
            "2 a\n",
            "3 little\n",
            "4 lamb\n"
          ],
          "name": "stdout"
        }
      ]
    },
    {
      "cell_type": "code",
      "metadata": {
        "id": "DvsW58Wn-mzS",
        "colab_type": "code",
        "colab": {
          "base_uri": "https://localhost:8080/",
          "height": 85
        },
        "outputId": "ec1e8cfb-c607-4aba-f071-8a5df09c4f48"
      },
      "source": [
        "print(range(10))\n",
        "print(range(0, 10))\n",
        "\n",
        "print(sum(range(4)))  # 0 + 1 + 2 + 3\n",
        "\n",
        "print(list(range(4)))"
      ],
      "execution_count": 57,
      "outputs": [
        {
          "output_type": "stream",
          "text": [
            "range(0, 10)\n",
            "range(0, 10)\n",
            "6\n",
            "[0, 1, 2, 3]\n"
          ],
          "name": "stdout"
        }
      ]
    },
    {
      "cell_type": "code",
      "metadata": {
        "id": "hKi9OWeO_Csk",
        "colab_type": "code",
        "colab": {
          "base_uri": "https://localhost:8080/",
          "height": 255
        },
        "outputId": "4f31bb2d-9090-429a-ee63-93c77750c1cf"
      },
      "source": [
        "for n in range(2, 10):\n",
        "  for x in range(2, n):\n",
        "    if n % x == 0:\n",
        "      print(n, 'equals', x, '*', n//x)\n",
        "      break\n",
        "    else:\n",
        "      # loop fell through without finding a factor\n",
        "      print(n, 'is a prime number')"
      ],
      "execution_count": 58,
      "outputs": [
        {
          "output_type": "stream",
          "text": [
            "3 is a prime number\n",
            "4 equals 2 * 2\n",
            "5 is a prime number\n",
            "5 is a prime number\n",
            "5 is a prime number\n",
            "6 equals 2 * 3\n",
            "7 is a prime number\n",
            "7 is a prime number\n",
            "7 is a prime number\n",
            "7 is a prime number\n",
            "7 is a prime number\n",
            "8 equals 2 * 4\n",
            "9 is a prime number\n",
            "9 equals 3 * 3\n"
          ],
          "name": "stdout"
        }
      ]
    },
    {
      "cell_type": "code",
      "metadata": {
        "id": "qIumUF6p_SyH",
        "colab_type": "code",
        "colab": {
          "base_uri": "https://localhost:8080/",
          "height": 153
        },
        "outputId": "b4127490-b4ea-4e27-830a-351468ee20c4"
      },
      "source": [
        "for num in range(2, 10):\n",
        "  if num % 2 == 0:\n",
        "    print(\"Found an even number\", num)\n",
        "    continue\n",
        "  print(\"Found a number\", num)"
      ],
      "execution_count": 59,
      "outputs": [
        {
          "output_type": "stream",
          "text": [
            "Found an even number 2\n",
            "Found a number 3\n",
            "Found an even number 4\n",
            "Found a number 5\n",
            "Found an even number 6\n",
            "Found a number 7\n",
            "Found an even number 8\n",
            "Found a number 9\n"
          ],
          "name": "stdout"
        }
      ]
    },
    {
      "cell_type": "code",
      "metadata": {
        "id": "0ba2XBg3_gto",
        "colab_type": "code",
        "colab": {
          "base_uri": "https://localhost:8080/",
          "height": 231
        },
        "outputId": "00e71e11-502b-4b35-969f-5cf75536902a"
      },
      "source": [
        "while True:\n",
        "  pass  # Busy-wait for keyboard interrupt (Ctrl+C)\n",
        "class MyEmptyClass:\n",
        "  pass\n",
        "def initlog(*args):\n",
        "  pass   # Remember to implement this!"
      ],
      "execution_count": 63,
      "outputs": [
        {
          "output_type": "error",
          "ename": "KeyboardInterrupt",
          "evalue": "ignored",
          "traceback": [
            "\u001b[0;31m---------------------------------------------------------------------------\u001b[0m",
            "\u001b[0;31mKeyboardInterrupt\u001b[0m                         Traceback (most recent call last)",
            "\u001b[0;32m<ipython-input-63-43209ca5d8bb>\u001b[0m in \u001b[0;36m<module>\u001b[0;34m()\u001b[0m\n\u001b[1;32m      1\u001b[0m \u001b[0;32mwhile\u001b[0m \u001b[0;32mTrue\u001b[0m\u001b[0;34m:\u001b[0m\u001b[0;34m\u001b[0m\u001b[0;34m\u001b[0m\u001b[0m\n\u001b[0;32m----> 2\u001b[0;31m   \u001b[0;32mpass\u001b[0m  \u001b[0;31m# Busy-wait for keyboard interrupt (Ctrl+C)\u001b[0m\u001b[0;34m\u001b[0m\u001b[0;34m\u001b[0m\u001b[0m\n\u001b[0m\u001b[1;32m      3\u001b[0m \u001b[0;32mclass\u001b[0m \u001b[0mMyEmptyClass\u001b[0m\u001b[0;34m:\u001b[0m\u001b[0;34m\u001b[0m\u001b[0;34m\u001b[0m\u001b[0m\n\u001b[1;32m      4\u001b[0m   \u001b[0;32mpass\u001b[0m\u001b[0;34m\u001b[0m\u001b[0;34m\u001b[0m\u001b[0m\n\u001b[1;32m      5\u001b[0m \u001b[0;32mdef\u001b[0m \u001b[0minitlog\u001b[0m\u001b[0;34m(\u001b[0m\u001b[0;34m*\u001b[0m\u001b[0margs\u001b[0m\u001b[0;34m)\u001b[0m\u001b[0;34m:\u001b[0m\u001b[0;34m\u001b[0m\u001b[0;34m\u001b[0m\u001b[0m\n",
            "\u001b[0;31mKeyboardInterrupt\u001b[0m: "
          ]
        }
      ]
    },
    {
      "cell_type": "code",
      "metadata": {
        "id": "M0oUFtMTAVKR",
        "colab_type": "code",
        "colab": {
          "base_uri": "https://localhost:8080/",
          "height": 323
        },
        "outputId": "ddc4ee49-712f-490d-bbd6-4ae5de8e9413"
      },
      "source": [
        "def fib(n):    # write Fibonacci series up to n\n",
        "  \"\"\"Print a Fibonacci series up to n.\"\"\"\n",
        "  a, b = 0, 1\n",
        "  while a < n:\n",
        "    print(a, end=' ')\n",
        "    a, b = b, a+b\n",
        "    print()\n",
        "# Now call the function we just defined:\n",
        "fib(2000)"
      ],
      "execution_count": 65,
      "outputs": [
        {
          "output_type": "stream",
          "text": [
            "0 \n",
            "1 \n",
            "1 \n",
            "2 \n",
            "3 \n",
            "5 \n",
            "8 \n",
            "13 \n",
            "21 \n",
            "34 \n",
            "55 \n",
            "89 \n",
            "144 \n",
            "233 \n",
            "377 \n",
            "610 \n",
            "987 \n",
            "1597 \n"
          ],
          "name": "stdout"
        }
      ]
    },
    {
      "cell_type": "code",
      "metadata": {
        "id": "1hSqsqU7AyMz",
        "colab_type": "code",
        "colab": {
          "base_uri": "https://localhost:8080/",
          "height": 238
        },
        "outputId": "dd49838b-9278-42ff-a1f8-c1d3f728093b"
      },
      "source": [
        "fib\n",
        "f = fib\n",
        "f(100)\n",
        "\n",
        "fib(0)\n",
        "print(fib(0))"
      ],
      "execution_count": 68,
      "outputs": [
        {
          "output_type": "stream",
          "text": [
            "0 \n",
            "1 \n",
            "1 \n",
            "2 \n",
            "3 \n",
            "5 \n",
            "8 \n",
            "13 \n",
            "21 \n",
            "34 \n",
            "55 \n",
            "89 \n",
            "None\n"
          ],
          "name": "stdout"
        }
      ]
    },
    {
      "cell_type": "code",
      "metadata": {
        "id": "2zQTk5ppBLeP",
        "colab_type": "code",
        "colab": {
          "base_uri": "https://localhost:8080/",
          "height": 34
        },
        "outputId": "95a6d61f-5f22-45f7-d79b-73d4d822025e"
      },
      "source": [
        "def fib2(n):  # return Fibonacci series up to n\n",
        "  \"\"\"Return a list containing the Fibonacci series up to n.\"\"\"\n",
        "  result = []\n",
        "  a, b = 0, 1\n",
        "  while a < n:\n",
        "    result.append(a)    # see below\n",
        "    a, b = b, a+b\n",
        "  return result\n",
        "f100 = fib2(100)    # call it\n",
        "f100                # write the result"
      ],
      "execution_count": 73,
      "outputs": [
        {
          "output_type": "execute_result",
          "data": {
            "text/plain": [
              "[0, 1, 1, 2, 3, 5, 8, 13, 21, 34, 55, 89]"
            ]
          },
          "metadata": {
            "tags": []
          },
          "execution_count": 73
        }
      ]
    },
    {
      "cell_type": "code",
      "metadata": {
        "id": "LtpcqbmeCWs_",
        "colab_type": "code",
        "colab": {
          "base_uri": "https://localhost:8080/",
          "height": 51
        },
        "outputId": "71df9382-3983-4146-9a46-8376b2d3205a"
      },
      "source": [
        "def ask_ok(prompt, retries=4, reminder='Please try again!'):\n",
        "  while True:\n",
        "    ok = input(prompt)\n",
        "    if ok in ('y', 'ye', 'yes'):\n",
        "      return True\n",
        "    if ok in ('n', 'no', 'nop', 'nope'):\n",
        "      return False\n",
        "    retries = retries - 1\n",
        "    if retries < 0:\n",
        "      raise ValueError('invalid user response')\n",
        "    print(reminder)\n",
        "ask_ok('Do you really want to quit?')"
      ],
      "execution_count": 82,
      "outputs": [
        {
          "output_type": "stream",
          "text": [
            "Do you really want to quit?y\n"
          ],
          "name": "stdout"
        },
        {
          "output_type": "execute_result",
          "data": {
            "text/plain": [
              "True"
            ]
          },
          "metadata": {
            "tags": []
          },
          "execution_count": 82
        }
      ]
    },
    {
      "cell_type": "code",
      "metadata": {
        "id": "swSFiFIlC7By",
        "colab_type": "code",
        "colab": {
          "base_uri": "https://localhost:8080/",
          "height": 34
        },
        "outputId": "fe31ac3b-35dc-4c74-8715-37561c8c042f"
      },
      "source": [
        "def f(arg=i):\n",
        "  print(arg)\n",
        "\n",
        "i = 6\n",
        "f()"
      ],
      "execution_count": 83,
      "outputs": [
        {
          "output_type": "stream",
          "text": [
            "4\n"
          ],
          "name": "stdout"
        }
      ]
    },
    {
      "cell_type": "code",
      "metadata": {
        "id": "m5j5NBz9DOCH",
        "colab_type": "code",
        "colab": {
          "base_uri": "https://localhost:8080/",
          "height": 68
        },
        "outputId": "12949d48-dc06-4e61-b589-f7b21ce2b1e6"
      },
      "source": [
        "def f(a, L=[]):\n",
        "    L.append(a)\n",
        "    return L\n",
        "\n",
        "print(f(1))\n",
        "print(f(2))\n",
        "print(f(3))\n",
        "\n",
        "def f(a, L=None):\n",
        "  if L is None:\n",
        "      L = []\n",
        "  L.append(a)\n",
        "  return L"
      ],
      "execution_count": 85,
      "outputs": [
        {
          "output_type": "stream",
          "text": [
            "[1]\n",
            "[1, 2]\n",
            "[1, 2, 3]\n"
          ],
          "name": "stdout"
        }
      ]
    },
    {
      "cell_type": "code",
      "metadata": {
        "id": "UtWR3V3CDirl",
        "colab_type": "code",
        "colab": {
          "base_uri": "https://localhost:8080/",
          "height": 527
        },
        "outputId": "4322530f-8de7-4219-e9ef-3c4d30ae8ff1"
      },
      "source": [
        "def parrot(voltage, state='a stiff', action='voom', type='Norwegian Blue'):\n",
        "    print(\"-- This parrot wouldn't\", action, end=' ')\n",
        "    print(\"if you put\", voltage, \"volts through it.\")\n",
        "    print(\"-- Lovely plumage, the\", type)\n",
        "    print(\"-- It's\", state, \"!\")\n",
        "\n",
        "parrot(1000)                                          # 1 positional argument\n",
        "parrot(voltage=1000)                                  # 1 keyword argument\n",
        "parrot(voltage=1000000, action='VOOOOOM')             # 2 keyword arguments\n",
        "parrot(action='VOOOOOM', voltage=1000000)             # 2 keyword arguments\n",
        "parrot('a million', 'bereft of life', 'jump')         # 3 positional arguments\n",
        "parrot('a thousand', state='pushing up the daisies')  # 1 positional, 1 keyword\n",
        "\n",
        "parrot(1)                     # required argument missing\n",
        "parrot(voltage=5, state='dead')  # non-keyword argument after a keyword argument\n",
        "parrot(state=110, voltage=220)     # duplicate value for the same argument\n",
        "parrot(voltage='John Cleese')  # unknown keyword argument"
      ],
      "execution_count": 130,
      "outputs": [
        {
          "output_type": "stream",
          "text": [
            "-- This parrot wouldn't voom if you put 1000 volts through it.\n",
            "-- Lovely plumage, the Norwegian Blue\n",
            "-- It's a stiff !\n",
            "-- This parrot wouldn't voom if you put 1000 volts through it.\n",
            "-- Lovely plumage, the Norwegian Blue\n",
            "-- It's a stiff !\n",
            "-- This parrot wouldn't VOOOOOM if you put 1000000 volts through it.\n",
            "-- Lovely plumage, the Norwegian Blue\n",
            "-- It's a stiff !\n",
            "-- This parrot wouldn't VOOOOOM if you put 1000000 volts through it.\n",
            "-- Lovely plumage, the Norwegian Blue\n",
            "-- It's a stiff !\n",
            "-- This parrot wouldn't jump if you put a million volts through it.\n",
            "-- Lovely plumage, the Norwegian Blue\n",
            "-- It's bereft of life !\n",
            "-- This parrot wouldn't voom if you put a thousand volts through it.\n",
            "-- Lovely plumage, the Norwegian Blue\n",
            "-- It's pushing up the daisies !\n",
            "-- This parrot wouldn't voom if you put 1 volts through it.\n",
            "-- Lovely plumage, the Norwegian Blue\n",
            "-- It's a stiff !\n",
            "-- This parrot wouldn't voom if you put 5 volts through it.\n",
            "-- Lovely plumage, the Norwegian Blue\n",
            "-- It's dead !\n",
            "-- This parrot wouldn't voom if you put 220 volts through it.\n",
            "-- Lovely plumage, the Norwegian Blue\n",
            "-- It's 110 !\n",
            "-- This parrot wouldn't voom if you put John Cleese volts through it.\n",
            "-- Lovely plumage, the Norwegian Blue\n",
            "-- It's a stiff !\n"
          ],
          "name": "stdout"
        }
      ]
    },
    {
      "cell_type": "code",
      "metadata": {
        "id": "w5n5Q4gRPczo",
        "colab_type": "code",
        "colab": {}
      },
      "source": [
        "def function(a):\n",
        "  pass\n",
        "function(0)\n",
        "function(a=0)"
      ],
      "execution_count": 0,
      "outputs": []
    },
    {
      "cell_type": "code",
      "metadata": {
        "id": "kOTtW7wFP2cl",
        "colab_type": "code",
        "colab": {
          "base_uri": "https://localhost:8080/",
          "height": 153
        },
        "outputId": "ec74da86-8886-4640-b7f9-db88b9c43a13"
      },
      "source": [
        "def cheeseshop(kind, *arguments, **keywords):\n",
        "    print(\"-- Do you have any\", kind, \"?\")\n",
        "    print(\"-- I'm sorry, we're all out of\", kind)\n",
        "    for arg in arguments:\n",
        "        print(arg)\n",
        "    print(\"-\" * 40)\n",
        "    for kw in keywords:\n",
        "        print(kw, \":\", keywords[kw])\n",
        "\n",
        "cheeseshop(\"Limburger\", \"It's very runny, sir.\",\n",
        "           \"It's really very, VERY runny, sir.\",\n",
        "           shopkeeper=\"Michael Palin\",\n",
        "           client=\"John Cleese\",\n",
        "           sketch=\"Cheese Shop Sketch\")"
      ],
      "execution_count": 137,
      "outputs": [
        {
          "output_type": "stream",
          "text": [
            "-- Do you have any Limburger ?\n",
            "-- I'm sorry, we're all out of Limburger\n",
            "It's very runny, sir.\n",
            "It's really very, VERY runny, sir.\n",
            "----------------------------------------\n",
            "shopkeeper : Michael Palin\n",
            "client : John Cleese\n",
            "sketch : Cheese Shop Sketch\n"
          ],
          "name": "stdout"
        }
      ]
    },
    {
      "cell_type": "code",
      "metadata": {
        "id": "CeUnKURYQFic",
        "colab_type": "code",
        "colab": {
          "base_uri": "https://localhost:8080/",
          "height": 129
        },
        "outputId": "e0563de6-3790-46c2-f276-5cbb269fbeb8"
      },
      "source": [
        "def standard_arg(arg):\n",
        "  print(arg)\n",
        "standard_arg(2)\n",
        "standard_arg(arg=2)\n",
        "\n",
        "def pos_only_arg(arg, /):\n",
        "  print(arg)\n",
        "pos_only_arg(1)\n",
        "pos_only_arg(arg=1)\n",
        "#Traceback (most recent call last):\n",
        "#  File \"<stdin>\", line 1, in <module>\n",
        "#TypeError: pos_only_arg() got an unexpected keyword argument 'arg'\n",
        "\n",
        "def kwd_only_arg(*, arg):\n",
        "  print(arg)\n",
        "kwd_only_arg(3)\n",
        "#Traceback (most recent call last):\n",
        "#  File \"<stdin>\", line 1, in <module>\n",
        "#TypeError: kwd_only_arg() takes 0 positional arguments but 1 was given\n",
        "kwd_only_arg(arg=3)\n",
        "\n",
        "def combined_example(pos_only, /, standard, *, kwd_only):\n",
        "  print(pos_only, standard, kwd_only)\n",
        "combined_example(1, 2, 3)\n",
        "#Traceback (most recent call last):\n",
        "#  File \"<stdin>\", line 1, in <module>\n",
        "#TypeError: combined_example() takes 2 positional arguments but 3 were given\n",
        "combined_example(1, 2, kwd_only=3)\n",
        "combined_example(1, standard=2, kwd_only=3)\n",
        "combined_example(pos_only=1, standard=2, kwd_only=3)\n",
        "#Traceback (most recent call last):\n",
        "#  File \"<stdin>\", line 1, in <module>\n",
        "#TypeError: combined_example() got an unexpected keyword argument 'pos_only'"
      ],
      "execution_count": 148,
      "outputs": [
        {
          "output_type": "error",
          "ename": "SyntaxError",
          "evalue": "ignored",
          "traceback": [
            "\u001b[0;36m  File \u001b[0;32m\"<ipython-input-148-e92fbe334d12>\"\u001b[0;36m, line \u001b[0;32m1\u001b[0m\n\u001b[0;31m    def pos_only_arg(arg, /):\u001b[0m\n\u001b[0m                          ^\u001b[0m\n\u001b[0;31mSyntaxError\u001b[0m\u001b[0;31m:\u001b[0m invalid syntax\n"
          ]
        }
      ]
    },
    {
      "cell_type": "code",
      "metadata": {
        "id": "FbAyoHs0VLKd",
        "colab_type": "code",
        "colab": {}
      },
      "source": [
        "def foo(name, **kwds):\n",
        "  return 'name' in kwds\n",
        "\n",
        "foo(1, **{'name': 2})\n",
        "#Traceback (most recent call last):\n",
        "#  File \"<stdin>\", line 1, in <module>\n",
        "#TypeError: foo() got multiple values for argument 'name'\n",
        "\n",
        "def foo(name, /, **kwds):\n",
        "    return 'name' in kwds\n",
        "foo(1, **{'name': 2})"
      ],
      "execution_count": 0,
      "outputs": []
    },
    {
      "cell_type": "code",
      "metadata": {
        "id": "pAjh25QJViz7",
        "colab_type": "code",
        "colab": {}
      },
      "source": [
        "def write_multiple_items(file, separator, *args):\n",
        "    file.write(separator.join(args))"
      ],
      "execution_count": 0,
      "outputs": []
    },
    {
      "cell_type": "code",
      "metadata": {
        "id": "yYf9O3tyVqcu",
        "colab_type": "code",
        "colab": {
          "base_uri": "https://localhost:8080/",
          "height": 34
        },
        "outputId": "4ddee051-395b-4c66-9137-bd40425ff098"
      },
      "source": [
        "def concat(*args, sep=\"/\"):\n",
        "    return sep.join(args)\n",
        "\n",
        "concat(\"earth\", \"mars\", \"venus\")\n",
        "\n",
        "concat(\"earth\", \"mars\", \"venus\", sep=\".\")"
      ],
      "execution_count": 154,
      "outputs": [
        {
          "output_type": "execute_result",
          "data": {
            "text/plain": [
              "'earth.mars.venus'"
            ]
          },
          "metadata": {
            "tags": []
          },
          "execution_count": 154
        }
      ]
    },
    {
      "cell_type": "code",
      "metadata": {
        "id": "DoV8YuS2Vvro",
        "colab_type": "code",
        "colab": {
          "base_uri": "https://localhost:8080/",
          "height": 34
        },
        "outputId": "c8784dd5-2988-4202-8594-acdc267eef6a"
      },
      "source": [
        "list(range(3, 6))            # normal call with separate arguments\n",
        "\n",
        "args = [3, 6]\n",
        "list(range(*args))            # call with arguments unpacked from a list"
      ],
      "execution_count": 155,
      "outputs": [
        {
          "output_type": "execute_result",
          "data": {
            "text/plain": [
              "[3, 4, 5]"
            ]
          },
          "metadata": {
            "tags": []
          },
          "execution_count": 155
        }
      ]
    },
    {
      "cell_type": "code",
      "metadata": {
        "id": "N73oFfqoV0ih",
        "colab_type": "code",
        "colab": {
          "base_uri": "https://localhost:8080/",
          "height": 34
        },
        "outputId": "92b8ba71-9a31-4095-bd51-e6c706b14628"
      },
      "source": [
        "def parrot(voltage, state='a stiff', action='voom'):\n",
        "  print(\"-- This parrot wouldn't\", action, end=' ')\n",
        "  print(\"if you put\", voltage, \"volts through it.\", end=' ')\n",
        "  print(\"E's\", state, \"!\")\n",
        "\n",
        "d = {\"voltage\": \"four million\", \"state\": \"bleedin' demised\", \"action\": \"VOOM\"}\n",
        "parrot(**d)"
      ],
      "execution_count": 158,
      "outputs": [
        {
          "output_type": "stream",
          "text": [
            "-- This parrot wouldn't VOOM if you put four million volts through it. E's bleedin' demised !\n"
          ],
          "name": "stdout"
        }
      ]
    },
    {
      "cell_type": "code",
      "metadata": {
        "id": "3PDjJ8Z4WHDo",
        "colab_type": "code",
        "colab": {
          "base_uri": "https://localhost:8080/",
          "height": 34
        },
        "outputId": "4779c924-f21f-4e99-f95b-6b5b8c143c93"
      },
      "source": [
        "def make_incrementor(n):\n",
        "    return lambda x: x + n\n",
        "\n",
        "f = make_incrementor(42)\n",
        "f(0)\n",
        "\n",
        "f(1)"
      ],
      "execution_count": 159,
      "outputs": [
        {
          "output_type": "execute_result",
          "data": {
            "text/plain": [
              "43"
            ]
          },
          "metadata": {
            "tags": []
          },
          "execution_count": 159
        }
      ]
    },
    {
      "cell_type": "code",
      "metadata": {
        "id": "qPIavbrAWLyx",
        "colab_type": "code",
        "colab": {
          "base_uri": "https://localhost:8080/",
          "height": 34
        },
        "outputId": "1689d81f-aba3-4722-a7c2-0fa1cbdd3492"
      },
      "source": [
        "pairs = [(1, 'one'), (2, 'two'), (3, 'three'), (4, 'four')]\n",
        "pairs.sort(key=lambda pair: pair[1])\n",
        "pairs"
      ],
      "execution_count": 160,
      "outputs": [
        {
          "output_type": "execute_result",
          "data": {
            "text/plain": [
              "[(4, 'four'), (1, 'one'), (3, 'three'), (2, 'two')]"
            ]
          },
          "metadata": {
            "tags": []
          },
          "execution_count": 160
        }
      ]
    },
    {
      "cell_type": "code",
      "metadata": {
        "id": "93S8RvvPWQDE",
        "colab_type": "code",
        "colab": {
          "base_uri": "https://localhost:8080/",
          "height": 85
        },
        "outputId": "12da19c4-d2df-4f6e-87f9-a16f886bef00"
      },
      "source": [
        "def my_function():\n",
        "    \"\"\"Do nothing, but document it.\n",
        "\n",
        "    No, really, it doesn't do anything.\n",
        "    \"\"\"\n",
        "    pass\n",
        "\n",
        "print(my_function.__doc__)"
      ],
      "execution_count": 161,
      "outputs": [
        {
          "output_type": "stream",
          "text": [
            "Do nothing, but document it.\n",
            "\n",
            "    No, really, it doesn't do anything.\n",
            "    \n"
          ],
          "name": "stdout"
        }
      ]
    },
    {
      "cell_type": "code",
      "metadata": {
        "id": "tKDOYFNiWVg4",
        "colab_type": "code",
        "colab": {
          "base_uri": "https://localhost:8080/",
          "height": 68
        },
        "outputId": "e20727d3-7c4c-4d7e-9742-b8bd3b97de2b"
      },
      "source": [
        "def f(ham: str, eggs: str = 'eggs') -> str:\n",
        "    print(\"Annotations:\", f.__annotations__)\n",
        "    print(\"Arguments:\", ham, eggs)\n",
        "    return ham + ' and ' + eggs\n",
        "\n",
        "f('spam')"
      ],
      "execution_count": 162,
      "outputs": [
        {
          "output_type": "stream",
          "text": [
            "Annotations: {'ham': <class 'str'>, 'eggs': <class 'str'>, 'return': <class 'str'>}\n",
            "Arguments: spam eggs\n"
          ],
          "name": "stdout"
        },
        {
          "output_type": "execute_result",
          "data": {
            "text/plain": [
              "'spam and eggs'"
            ]
          },
          "metadata": {
            "tags": []
          },
          "execution_count": 162
        }
      ]
    },
    {
      "cell_type": "code",
      "metadata": {
        "id": "x7dJPBGUWeWb",
        "colab_type": "code",
        "colab": {
          "base_uri": "https://localhost:8080/",
          "height": 34
        },
        "outputId": "68826294-dafd-4054-b630-625379fa08d8"
      },
      "source": [
        "fruits = ['orange', 'apple', 'pear', 'banana', 'kiwi', 'apple', 'banana']\n",
        "fruits.count('apple')\n",
        "\n",
        "fruits.count('tangerine')\n",
        "\n",
        "fruits.index('banana')\n",
        "\n",
        "fruits.index('banana', 4)  # Find next banana starting a position 4\n",
        "\n",
        "fruits.reverse()\n",
        "fruits\n",
        "\n",
        "fruits.append('grape')\n",
        "fruits\n",
        "\n",
        "fruits.sort()\n",
        "fruits\n",
        "\n",
        "fruits.pop()"
      ],
      "execution_count": 175,
      "outputs": [
        {
          "output_type": "execute_result",
          "data": {
            "text/plain": [
              "'pear'"
            ]
          },
          "metadata": {
            "tags": []
          },
          "execution_count": 175
        }
      ]
    },
    {
      "cell_type": "code",
      "metadata": {
        "id": "FHfuVYOlXQ6R",
        "colab_type": "code",
        "colab": {
          "base_uri": "https://localhost:8080/",
          "height": 34
        },
        "outputId": "c99e0829-136b-4d3d-a22e-24951c5ecd27"
      },
      "source": [
        "stack = [3, 4, 5]\n",
        "stack.append(6)\n",
        "stack.append(7)\n",
        "stack\n",
        "\n",
        "stack.pop()\n",
        "\n",
        "stack\n",
        "\n",
        "stack.pop()\n",
        "\n",
        "stack.pop()\n",
        "\n",
        "stack"
      ],
      "execution_count": 176,
      "outputs": [
        {
          "output_type": "execute_result",
          "data": {
            "text/plain": [
              "[3, 4]"
            ]
          },
          "metadata": {
            "tags": []
          },
          "execution_count": 176
        }
      ]
    },
    {
      "cell_type": "code",
      "metadata": {
        "id": "8K6wug6IXWlz",
        "colab_type": "code",
        "colab": {
          "base_uri": "https://localhost:8080/",
          "height": 34
        },
        "outputId": "d05f322a-42da-413d-e0cb-590969d64f6d"
      },
      "source": [
        "from collections import deque\n",
        "queue = deque([\"Eric\", \"John\", \"Michael\"])\n",
        "queue.append(\"Terry\")           # Terry arrives\n",
        "queue.append(\"Graham\")          # Graham arrives\n",
        "queue.popleft()                 # The first to arrive now leaves\n",
        "\n",
        "queue.popleft()                 # The second to arrive now leaves\n",
        "\n",
        "queue                           # Remaining queue in order of arrival"
      ],
      "execution_count": 177,
      "outputs": [
        {
          "output_type": "execute_result",
          "data": {
            "text/plain": [
              "deque(['Michael', 'Terry', 'Graham'])"
            ]
          },
          "metadata": {
            "tags": []
          },
          "execution_count": 177
        }
      ]
    },
    {
      "cell_type": "code",
      "metadata": {
        "id": "h2r-4iTCXbgd",
        "colab_type": "code",
        "colab": {
          "base_uri": "https://localhost:8080/",
          "height": 34
        },
        "outputId": "a878a8a5-4556-4875-b19e-887755baa3e4"
      },
      "source": [
        "squares = []\n",
        "for x in range(10):\n",
        "    squares.append(x**2)\n",
        "\n",
        "squares\n",
        "\n",
        "squares = list(map(lambda x: x**2, range(10)))\n",
        "\n",
        "squares = [x**2 for x in range(10)]\n",
        "\n",
        "[(x, y) for x in [1,2,3] for y in [3,1,4] if x != y]"
      ],
      "execution_count": 181,
      "outputs": [
        {
          "output_type": "execute_result",
          "data": {
            "text/plain": [
              "[(1, 3), (1, 4), (2, 3), (2, 1), (2, 4), (3, 1), (3, 4)]"
            ]
          },
          "metadata": {
            "tags": []
          },
          "execution_count": 181
        }
      ]
    },
    {
      "cell_type": "code",
      "metadata": {
        "id": "wdSgW2dLXn-g",
        "colab_type": "code",
        "colab": {
          "base_uri": "https://localhost:8080/",
          "height": 34
        },
        "outputId": "d3c2d4b3-ea18-4579-e7a5-5a81568239ec"
      },
      "source": [
        "combs = []\n",
        "for x in [1,2,3]:\n",
        "    for y in [3,1,4]:\n",
        "        if x != y:\n",
        "            combs.append((x, y))\n",
        "\n",
        "combs"
      ],
      "execution_count": 182,
      "outputs": [
        {
          "output_type": "execute_result",
          "data": {
            "text/plain": [
              "[(1, 3), (1, 4), (2, 3), (2, 1), (2, 4), (3, 1), (3, 4)]"
            ]
          },
          "metadata": {
            "tags": []
          },
          "execution_count": 182
        }
      ]
    },
    {
      "cell_type": "code",
      "metadata": {
        "id": "JKOqFWaKXusv",
        "colab_type": "code",
        "colab": {
          "base_uri": "https://localhost:8080/",
          "height": 34
        },
        "outputId": "72512806-3da4-4729-f348-66166f4055d0"
      },
      "source": [
        "vec = [-4, -2, 0, 2, 4]\n",
        "# create a new list with the values doubled\n",
        "[x*2 for x in vec]\n",
        "\n",
        "# filter the list to exclude negative numbers\n",
        "[x for x in vec if x >= 0]\n",
        "\n",
        "# apply a function to all the elements\n",
        "[abs(x) for x in vec]\n",
        "\n",
        "# call a method on each element\n",
        "freshfruit = ['  banana', '  loganberry ', 'passion fruit  ']\n",
        "[weapon.strip() for weapon in freshfruit]\n",
        "\n",
        "# create a list of 2-tuples like (number, square)\n",
        "[(x, x**2) for x in range(6)]\n",
        "\n",
        "# the tuple must be parenthesized, otherwise an error is raised\n",
        "#[x, x**2 for x in range(6)]\n",
        "\n",
        "# flatten a list using a listcomp with two 'for'\n",
        "vec = [[1,2,3], [4,5,6], [7,8,9]]\n",
        "[num for elem in vec for num in elem]"
      ],
      "execution_count": 190,
      "outputs": [
        {
          "output_type": "execute_result",
          "data": {
            "text/plain": [
              "[1, 2, 3, 4, 5, 6, 7, 8, 9]"
            ]
          },
          "metadata": {
            "tags": []
          },
          "execution_count": 190
        }
      ]
    },
    {
      "cell_type": "code",
      "metadata": {
        "id": "kXlEmLRNYr4g",
        "colab_type": "code",
        "colab": {
          "base_uri": "https://localhost:8080/",
          "height": 34
        },
        "outputId": "eece0adb-55b1-455d-cc3f-d5eaf475ea35"
      },
      "source": [
        "from math import pi\n",
        "[str(round(pi, i)) for i in range(1, 6)]"
      ],
      "execution_count": 191,
      "outputs": [
        {
          "output_type": "execute_result",
          "data": {
            "text/plain": [
              "['3.1', '3.14', '3.142', '3.1416', '3.14159']"
            ]
          },
          "metadata": {
            "tags": []
          },
          "execution_count": 191
        }
      ]
    },
    {
      "cell_type": "code",
      "metadata": {
        "id": "XIBJsAR2YzeO",
        "colab_type": "code",
        "colab": {
          "base_uri": "https://localhost:8080/",
          "height": 34
        },
        "outputId": "841de66e-12ce-485b-cec0-3b71c85bf0fc"
      },
      "source": [
        "matrix = [\n",
        "    [1, 2, 3, 4],\n",
        "    [5, 6, 7, 8],\n",
        "    [9, 10, 11, 12],\n",
        "]\n",
        "[[row[i] for row in matrix] for i in range(4)]"
      ],
      "execution_count": 193,
      "outputs": [
        {
          "output_type": "execute_result",
          "data": {
            "text/plain": [
              "[[1, 5, 9], [2, 6, 10], [3, 7, 11], [4, 8, 12]]"
            ]
          },
          "metadata": {
            "tags": []
          },
          "execution_count": 193
        }
      ]
    },
    {
      "cell_type": "code",
      "metadata": {
        "id": "EyiYt3zLY8ZD",
        "colab_type": "code",
        "colab": {
          "base_uri": "https://localhost:8080/",
          "height": 34
        },
        "outputId": "70eb3a3b-23c3-452d-8328-36276a840eff"
      },
      "source": [
        "transposed = []\n",
        "for i in range(4):\n",
        "    transposed.append([row[i] for row in matrix])\n",
        "\n",
        "transposed"
      ],
      "execution_count": 194,
      "outputs": [
        {
          "output_type": "execute_result",
          "data": {
            "text/plain": [
              "[[1, 5, 9], [2, 6, 10], [3, 7, 11], [4, 8, 12]]"
            ]
          },
          "metadata": {
            "tags": []
          },
          "execution_count": 194
        }
      ]
    },
    {
      "cell_type": "code",
      "metadata": {
        "id": "Cpi9iUW9ZBwN",
        "colab_type": "code",
        "colab": {
          "base_uri": "https://localhost:8080/",
          "height": 129
        },
        "outputId": "9ec68d9b-06f1-43d5-efa5-caf9c396535b"
      },
      "source": [
        "transposed = []\n",
        "for i in range(4):\n",
        "    # the following 3 lines implement the nested listcomp\n",
        "    transposed_row = []\n",
        "    for row in matrix:\n",
        "        transposed_row.append(row[i])\n",
        "    transposed.append(transposed_row)\n",
        "\n",
        "transposed"
      ],
      "execution_count": 201,
      "outputs": [
        {
          "output_type": "error",
          "ename": "IndentationError",
          "evalue": "ignored",
          "traceback": [
            "\u001b[0;36m  File \u001b[0;32m\"<ipython-input-201-59913037fe2c>\"\u001b[0;36m, line \u001b[0;32m5\u001b[0m\n\u001b[0;31m    for row in matrix:\u001b[0m\n\u001b[0m                      ^\u001b[0m\n\u001b[0;31mIndentationError\u001b[0m\u001b[0;31m:\u001b[0m unindent does not match any outer indentation level\n"
          ]
        }
      ]
    },
    {
      "cell_type": "code",
      "metadata": {
        "id": "f79-mbbeZGaf",
        "colab_type": "code",
        "colab": {
          "base_uri": "https://localhost:8080/",
          "height": 34
        },
        "outputId": "a8a2d1cd-ea3d-4bce-bef1-e4a80b663eac"
      },
      "source": [
        "list(zip(*matrix))"
      ],
      "execution_count": 196,
      "outputs": [
        {
          "output_type": "execute_result",
          "data": {
            "text/plain": [
              "[(1, 5, 9), (2, 6, 10), (3, 7, 11), (4, 8, 12)]"
            ]
          },
          "metadata": {
            "tags": []
          },
          "execution_count": 196
        }
      ]
    },
    {
      "cell_type": "code",
      "metadata": {
        "id": "9iBQpnRYZLHx",
        "colab_type": "code",
        "colab": {}
      },
      "source": [
        "a = [-1, 1, 66.25, 333, 333, 1234.5]\n",
        "del a[0]\n",
        "a\n",
        "\n",
        "del a[2:4]\n",
        "a\n",
        "\n",
        "del a[:]\n",
        "a\n",
        "del a"
      ],
      "execution_count": 0,
      "outputs": []
    },
    {
      "cell_type": "code",
      "metadata": {
        "id": "QX5oPve2Ze1r",
        "colab_type": "code",
        "colab": {
          "base_uri": "https://localhost:8080/",
          "height": 197
        },
        "outputId": "a3a7f34d-688b-4deb-f11f-88b809844a05"
      },
      "source": [
        "t = 12345, 54321, 'hello!'\n",
        "t[0]\n",
        "\n",
        "t\n",
        "\n",
        "# Tuples may be nested:\n",
        "u = t, (1, 2, 3, 4, 5)\n",
        "u\n",
        "\n",
        "# Tuples are immutable:\n",
        "t[0] = 88888\n",
        "\n",
        "# but they can contain mutable objects:\n",
        "v = ([1, 2, 3], [3, 2, 1])\n",
        "v"
      ],
      "execution_count": 206,
      "outputs": [
        {
          "output_type": "error",
          "ename": "TypeError",
          "evalue": "ignored",
          "traceback": [
            "\u001b[0;31m---------------------------------------------------------------------------\u001b[0m",
            "\u001b[0;31mTypeError\u001b[0m                                 Traceback (most recent call last)",
            "\u001b[0;32m<ipython-input-206-9225e331a39a>\u001b[0m in \u001b[0;36m<module>\u001b[0;34m()\u001b[0m\n\u001b[1;32m      9\u001b[0m \u001b[0;34m\u001b[0m\u001b[0m\n\u001b[1;32m     10\u001b[0m \u001b[0;31m# Tuples are immutable:\u001b[0m\u001b[0;34m\u001b[0m\u001b[0;34m\u001b[0m\u001b[0;34m\u001b[0m\u001b[0m\n\u001b[0;32m---> 11\u001b[0;31m \u001b[0mt\u001b[0m\u001b[0;34m[\u001b[0m\u001b[0;36m0\u001b[0m\u001b[0;34m]\u001b[0m \u001b[0;34m=\u001b[0m \u001b[0;36m88888\u001b[0m\u001b[0;34m\u001b[0m\u001b[0;34m\u001b[0m\u001b[0m\n\u001b[0m",
            "\u001b[0;31mTypeError\u001b[0m: 'tuple' object does not support item assignment"
          ]
        }
      ]
    },
    {
      "cell_type": "code",
      "metadata": {
        "id": "8n1s7U2xZyNP",
        "colab_type": "code",
        "colab": {
          "base_uri": "https://localhost:8080/",
          "height": 34
        },
        "outputId": "c7f1f260-e540-4636-c40f-8cd4b31d4fbe"
      },
      "source": [
        "empty = ()\n",
        "singleton = 'hello',    # <-- note trailing comma\n",
        "len(empty)\n",
        "\n",
        "len(singleton)\n",
        "\n",
        "singleton"
      ],
      "execution_count": 207,
      "outputs": [
        {
          "output_type": "execute_result",
          "data": {
            "text/plain": [
              "('hello',)"
            ]
          },
          "metadata": {
            "tags": []
          },
          "execution_count": 207
        }
      ]
    },
    {
      "cell_type": "code",
      "metadata": {
        "id": "ntH3d-5iZ6Jk",
        "colab_type": "code",
        "colab": {}
      },
      "source": [
        "x, y, z = t"
      ],
      "execution_count": 0,
      "outputs": []
    },
    {
      "cell_type": "code",
      "metadata": {
        "id": "cWsLNtX_Z-FI",
        "colab_type": "code",
        "colab": {}
      },
      "source": [
        ""
      ],
      "execution_count": 0,
      "outputs": []
    },
    {
      "cell_type": "code",
      "metadata": {
        "id": "UyFUQXBvZ-sY",
        "colab_type": "code",
        "colab": {
          "base_uri": "https://localhost:8080/",
          "height": 251
        },
        "outputId": "116c2022-c3e2-4b1f-f66e-f028ddb96992"
      },
      "source": [
        "print(basket)                      # show that duplicates have been removed\n",
        "\n",
        "'orange' in basket                 # fast membership testing\n",
        "'crabgrass' in basket\n",
        "\n",
        "# Demonstrate set operations on unique letters from two words\n",
        "\n",
        "a = set('abracadabra')\n",
        "b = set('alacazam')\n",
        "a                                  # unique letters in a\n",
        "\n",
        "a - b                              # letters in a but not in b\n",
        "\n",
        "a | b                              # letters in a or b or both\n",
        "\n",
        "a & b                              # letters in both a and b\n",
        "\n",
        "a ^ b                              # letters in a or b but not both\n",
        "\n",
        "a = {x for x in 'abracadabra' if x not in 'abc'}\n",
        "a"
      ],
      "execution_count": 209,
      "outputs": [
        {
          "output_type": "error",
          "ename": "NameError",
          "evalue": "ignored",
          "traceback": [
            "\u001b[0;31m---------------------------------------------------------------------------\u001b[0m",
            "\u001b[0;31mNameError\u001b[0m                                 Traceback (most recent call last)",
            "\u001b[0;32m<ipython-input-209-579b32e46763>\u001b[0m in \u001b[0;36m<module>\u001b[0;34m()\u001b[0m\n\u001b[0;32m----> 1\u001b[0;31m \u001b[0mprint\u001b[0m\u001b[0;34m(\u001b[0m\u001b[0mbasket\u001b[0m\u001b[0;34m)\u001b[0m                      \u001b[0;31m# show that duplicates have been removed\u001b[0m\u001b[0;34m\u001b[0m\u001b[0;34m\u001b[0m\u001b[0m\n\u001b[0m\u001b[1;32m      2\u001b[0m \u001b[0;34m\u001b[0m\u001b[0m\n\u001b[1;32m      3\u001b[0m \u001b[0;34m'orange'\u001b[0m \u001b[0;32min\u001b[0m \u001b[0mbasket\u001b[0m                 \u001b[0;31m# fast membership testing\u001b[0m\u001b[0;34m\u001b[0m\u001b[0;34m\u001b[0m\u001b[0m\n\u001b[1;32m      4\u001b[0m \u001b[0;34m\u001b[0m\u001b[0m\n\u001b[1;32m      5\u001b[0m \u001b[0;34m'crabgrass'\u001b[0m \u001b[0;32min\u001b[0m \u001b[0mbasket\u001b[0m\u001b[0;34m\u001b[0m\u001b[0;34m\u001b[0m\u001b[0m\n",
            "\u001b[0;31mNameError\u001b[0m: name 'basket' is not defined"
          ]
        }
      ]
    },
    {
      "cell_type": "code",
      "metadata": {
        "id": "11hfJ_vWaMAD",
        "colab_type": "code",
        "colab": {
          "base_uri": "https://localhost:8080/",
          "height": 34
        },
        "outputId": "a6d71baf-ae3a-4e39-9212-457788c7e864"
      },
      "source": [
        "tel = {'jack': 4098, 'sape': 4139}\n",
        "tel['guido'] = 4127\n",
        "tel\n",
        "\n",
        "tel['jack']\n",
        "\n",
        "del tel['sape']\n",
        "tel['irv'] = 4127\n",
        "tel\n",
        "\n",
        "list(tel)\n",
        "\n",
        "sorted(tel)\n",
        "\n",
        "'guido' in tel\n",
        "\n",
        "'jack' not in tel\n",
        "\n",
        "dict([('sape', 4139), ('guido', 4127), ('jack', 4098)])\n",
        "\n",
        "{x: x**2 for x in (2, 4, 6)}\n",
        "\n",
        "dict(sape=4139, guido=4127, jack=4098)"
      ],
      "execution_count": 213,
      "outputs": [
        {
          "output_type": "execute_result",
          "data": {
            "text/plain": [
              "{'guido': 4127, 'jack': 4098, 'sape': 4139}"
            ]
          },
          "metadata": {
            "tags": []
          },
          "execution_count": 213
        }
      ]
    },
    {
      "cell_type": "code",
      "metadata": {
        "id": "FalUi5IjaZHE",
        "colab_type": "code",
        "colab": {
          "base_uri": "https://localhost:8080/",
          "height": 51
        },
        "outputId": "2678ae0a-4b5b-49ee-c0c9-a91cfaa65ca0"
      },
      "source": [
        "knights = {'gallahad': 'the pure', 'robin': 'the brave'}\n",
        "for k, v in knights.items():\n",
        "    print(k, v)"
      ],
      "execution_count": 214,
      "outputs": [
        {
          "output_type": "stream",
          "text": [
            "gallahad the pure\n",
            "robin the brave\n"
          ],
          "name": "stdout"
        }
      ]
    },
    {
      "cell_type": "code",
      "metadata": {
        "id": "1mBc56vZaeQg",
        "colab_type": "code",
        "colab": {
          "base_uri": "https://localhost:8080/",
          "height": 68
        },
        "outputId": "5272fd4e-7e29-433f-8124-07ddbd8cd714"
      },
      "source": [
        "for i, v in enumerate(['tic', 'tac', 'toe']):\n",
        "    print(i, v)"
      ],
      "execution_count": 215,
      "outputs": [
        {
          "output_type": "stream",
          "text": [
            "0 tic\n",
            "1 tac\n",
            "2 toe\n"
          ],
          "name": "stdout"
        }
      ]
    },
    {
      "cell_type": "code",
      "metadata": {
        "id": "3kz6t4yBah7a",
        "colab_type": "code",
        "colab": {
          "base_uri": "https://localhost:8080/",
          "height": 68
        },
        "outputId": "9f91084e-2a03-49f5-def3-6f61e1821e4e"
      },
      "source": [
        "questions = ['name', 'quest', 'favorite color']\n",
        "answers = ['lancelot', 'the holy grail', 'blue']\n",
        "for q, a in zip(questions, answers):\n",
        "    print('What is your {0}?  It is {1}.'.format(q, a))"
      ],
      "execution_count": 216,
      "outputs": [
        {
          "output_type": "stream",
          "text": [
            "What is your name?  It is lancelot.\n",
            "What is your quest?  It is the holy grail.\n",
            "What is your favorite color?  It is blue.\n"
          ],
          "name": "stdout"
        }
      ]
    },
    {
      "cell_type": "code",
      "metadata": {
        "id": "yXA6KfyIamKS",
        "colab_type": "code",
        "colab": {
          "base_uri": "https://localhost:8080/",
          "height": 102
        },
        "outputId": "19359a5b-0866-48a4-f328-e6c3391567a4"
      },
      "source": [
        "for i in reversed(range(1, 10, 2)):\n",
        "    print(i)"
      ],
      "execution_count": 217,
      "outputs": [
        {
          "output_type": "stream",
          "text": [
            "9\n",
            "7\n",
            "5\n",
            "3\n",
            "1\n"
          ],
          "name": "stdout"
        }
      ]
    },
    {
      "cell_type": "code",
      "metadata": {
        "id": "SD7yHsTMaplp",
        "colab_type": "code",
        "colab": {
          "base_uri": "https://localhost:8080/",
          "height": 85
        },
        "outputId": "96fe207a-1043-4a9a-d5e0-b53213e0559f"
      },
      "source": [
        "basket = ['apple', 'orange', 'apple', 'pear', 'orange', 'banana']\n",
        "for f in sorted(set(basket)):\n",
        "    print(f)"
      ],
      "execution_count": 218,
      "outputs": [
        {
          "output_type": "stream",
          "text": [
            "apple\n",
            "banana\n",
            "orange\n",
            "pear\n"
          ],
          "name": "stdout"
        }
      ]
    },
    {
      "cell_type": "code",
      "metadata": {
        "id": "0w6H1nVsatgM",
        "colab_type": "code",
        "colab": {
          "base_uri": "https://localhost:8080/",
          "height": 34
        },
        "outputId": "365d1676-7747-4d5a-9caa-0d1fdf093c89"
      },
      "source": [
        "import math\n",
        "raw_data = [56.2, float('NaN'), 51.7, 55.3, 52.5, float('NaN'), 47.8]\n",
        "filtered_data = []\n",
        "for value in raw_data:\n",
        "    if not math.isnan(value):\n",
        "        filtered_data.append(value)\n",
        "\n",
        "filtered_data"
      ],
      "execution_count": 219,
      "outputs": [
        {
          "output_type": "execute_result",
          "data": {
            "text/plain": [
              "[56.2, 51.7, 55.3, 52.5, 47.8]"
            ]
          },
          "metadata": {
            "tags": []
          },
          "execution_count": 219
        }
      ]
    },
    {
      "cell_type": "code",
      "metadata": {
        "id": "aUbmEG0CazDY",
        "colab_type": "code",
        "colab": {
          "base_uri": "https://localhost:8080/",
          "height": 34
        },
        "outputId": "d63e119c-8503-43d5-a382-2a93c1dace68"
      },
      "source": [
        "string1, string2, string3 = '', 'Trondheim', 'Hammer Dance'\n",
        "non_null = string1 or string2 or string3\n",
        "non_null"
      ],
      "execution_count": 220,
      "outputs": [
        {
          "output_type": "execute_result",
          "data": {
            "text/plain": [
              "'Trondheim'"
            ]
          },
          "metadata": {
            "tags": []
          },
          "execution_count": 220
        }
      ]
    },
    {
      "cell_type": "code",
      "metadata": {
        "id": "KNo0_2JGa5v_",
        "colab_type": "code",
        "colab": {
          "base_uri": "https://localhost:8080/",
          "height": 34
        },
        "outputId": "3495687a-fd90-455d-d03d-a7bc487fd538"
      },
      "source": [
        "(1, 2, 3)              < (1, 2, 4)\n",
        "[1, 2, 3]              < [1, 2, 4]\n",
        "'ABC' < 'C' < 'Pascal' < 'Python'\n",
        "(1, 2, 3, 4)           < (1, 2, 4)\n",
        "(1, 2)                 < (1, 2, -1)\n",
        "(1, 2, 3)             == (1.0, 2.0, 3.0)\n",
        "(1, 2, ('aa', 'ab'))   < (1, 2, ('abc', 'a'), 4)"
      ],
      "execution_count": 221,
      "outputs": [
        {
          "output_type": "execute_result",
          "data": {
            "text/plain": [
              "True"
            ]
          },
          "metadata": {
            "tags": []
          },
          "execution_count": 221
        }
      ]
    },
    {
      "cell_type": "code",
      "metadata": {
        "id": "O7wHdboxbE0A",
        "colab_type": "code",
        "colab": {}
      },
      "source": [
        ""
      ],
      "execution_count": 0,
      "outputs": []
    }
  ]
}